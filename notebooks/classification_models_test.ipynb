{
 "cells": [
  {
   "cell_type": "code",
   "execution_count": 14,
   "metadata": {},
   "outputs": [],
   "source": [
    "import argparse\n",
    "from enum import Enum\n",
    "import csv\n",
    "from abc import ABC, abstractmethod\n",
    "import sys\n",
    "import numpy as np\n",
    "import matplotlib.pyplot as plt"
   ]
  },
  {
   "cell_type": "code",
   "execution_count": 2,
   "metadata": {},
   "outputs": [],
   "source": [
    "# Assume the given files are compiled by the ground truth (if the measured qubit is dark or bright)\n",
    "BRIGHT_QUBITS_MEASUREMENTS = [\n",
    "    'Data4Jens/BrightTimeTagSet1.csv',\n",
    "    'Data4Jens/BrightTimeTagSet2.csv',\n",
    "    'Data4Jens/BrightTimeTagSet3.csv',\n",
    "    'Data4Jens/BrightTimeTagSet4.csv',\n",
    "    'Data4Jens/BrightTimeTagSet5.csv',\n",
    "]\n",
    "\n",
    "DARK_QUBITS_MEASUREMENTS = [\n",
    "    'Data4Jens/DarkTimeTagSet1.csv',\n",
    "    'Data4Jens/DarkTimeTagSet2.csv',\n",
    "    'Data4Jens/DarkTimeTagSet3.csv',\n",
    "    'Data4Jens/DarkTimeTagSet4.csv',\n",
    "    'Data4Jens/DarkTimeTagSet5.csv',\n",
    "]"
   ]
  },
  {
   "cell_type": "code",
   "execution_count": 3,
   "metadata": {},
   "outputs": [],
   "source": [
    "class Qubit(Enum):\n",
    "    BRIGHT = 0\n",
    "    DARK = 1\n",
    "\n",
    "\n",
    "class QubitMeasurement():\n",
    "    def __init__(self, photons, ground_truth):\n",
    "        super().__init__()\n",
    "        self.photons = photons\n",
    "        self.ground_truth = ground_truth\n",
    "        self.classified_result = None\n",
    "\n",
    "\n",
    "class ClassificationModel(ABC):\n",
    "    def __init__(self):\n",
    "        super().__init__()\n",
    "    \n",
    "    @abstractmethod\n",
    "    def classify(self, qubit_measurement):\n",
    "        pass\n",
    "\n",
    "\n",
    "class ThresholdCutoffModel(ClassificationModel):\n",
    "    def __init__(self, threshold):\n",
    "        super().__init__()\n",
    "        self.threshold = threshold\n",
    "\n",
    "    def __str__(self):\n",
    "        return \"Threshold Cutoff Model w/ threshold {}\".format(self.threshold)\n",
    "\n",
    "    def classify(self, qubit_measurement):\n",
    "        return Qubit.BRIGHT if len(qubit_measurement.photons) > self.threshold else Qubit.DARK"
   ]
  },
  {
   "cell_type": "code",
   "execution_count": 4,
   "metadata": {},
   "outputs": [],
   "source": [
    "def get_arguments():\n",
    "    parser = argparse.ArgumentParser()\n",
    "    return parser.parse_args\n",
    "\n",
    "\n",
    "def log(message):\n",
    "    sys.stderr.write(message + '\\n')\n",
    "\n",
    "\n",
    "def read_qubit_measurements():\n",
    "    def read_from_files_with_ground_truth(filenames, ground_truth, qubit_measurements):\n",
    "        for measurement_filename in filenames:\n",
    "            log(\"Loading {}\".format(measurement_filename))\n",
    "            with open(measurement_filename, 'r') as measurement_file:\n",
    "                reader = csv.reader(measurement_file)\n",
    "                for photons in reader:\n",
    "                    qubit_measurements.append(QubitMeasurement([float(photon) for photon in photons], ground_truth))\n",
    "        return qubit_measurements\n",
    "\n",
    "    qubit_measurements = []\n",
    "    read_from_files_with_ground_truth(BRIGHT_QUBITS_MEASUREMENTS, Qubit.BRIGHT, qubit_measurements)\n",
    "    read_from_files_with_ground_truth(DARK_QUBITS_MEASUREMENTS, Qubit.DARK, qubit_measurements)\n",
    "    return qubit_measurements\n",
    "\n",
    "\n",
    "def classify_qubits(model, qubit_measurements):\n",
    "    log(\"Classifying qubit measurements with {}\".format(model))\n",
    "    for measurement in qubit_measurements:\n",
    "        measurement.classified_result = model.classify(measurement)\n",
    "    return\n",
    "\n",
    "\n",
    "def gather_measurement_statistics(qubit_measurements):\n",
    "    datapoints = len(qubit_measurements)\n",
    "    false_positives = len(list(filter(\n",
    "        lambda measurement: measurement.ground_truth == Qubit.BRIGHT and measurement.classified_result == Qubit.DARK, \n",
    "        qubit_measurements)))\n",
    "    false_negatives = len(list(filter(\n",
    "        lambda measurement: measurement.ground_truth == Qubit.DARK and measurement.classified_result == Qubit.BRIGHT, \n",
    "        qubit_measurements)))\n",
    "    reliability = 1 - (false_positives + false_negatives) / datapoints\n",
    "\n",
    "    print(\"Datapoints: {}\\nFalse Positives : {}\\nFalse Negatives: {}\\nReliability: {}\".format(\n",
    "        datapoints, false_positives, false_negatives, reliability))\n",
    "    return reliability"
   ]
  },
  {
   "cell_type": "code",
   "execution_count": 5,
   "metadata": {},
   "outputs": [],
   "source": [
    "def threshold_cutoff_experiments():\n",
    "    options = get_arguments()\n",
    "    qubit_measurements = read_qubit_measurements()\n",
    "\n",
    "    _most_photons_received = max(list(map(lambda measurement: len(measurement.photons), qubit_measurements)))\n",
    "    print(\"Max number of photons captured for one qubit: {}\".format(_most_photons_received))\n",
    "\n",
    "    _accuracy_results = []\n",
    "    # try to classify measurements with a range of cutoff values and look at their accuracy\n",
    "    for threshold in range(0, _most_photons_received + 1):\n",
    "        model = ThresholdCutoffModel(threshold)\n",
    "        classify_qubits(model, qubit_measurements)\n",
    "        reliability = gather_measurement_statistics(qubit_measurements)\n",
    "        _accuracy_results.append((threshold, reliability))\n",
    "    \n",
    "    print(\"Threshold Cutoff Model Accuracy:\")\n",
    "    for threshold, reliability in _accuracy_results:\n",
    "        print(\"{},{}\".format(threshold, reliability))"
   ]
  },
  {
   "cell_type": "code",
   "execution_count": 8,
   "metadata": {},
   "outputs": [
    {
     "name": "stderr",
     "output_type": "stream",
     "text": [
      "Loading Data4Jens/BrightTimeTagSet1.csv\n",
      "Loading Data4Jens/BrightTimeTagSet2.csv\n",
      "Loading Data4Jens/BrightTimeTagSet3.csv\n",
      "Loading Data4Jens/BrightTimeTagSet4.csv\n",
      "Loading Data4Jens/BrightTimeTagSet5.csv\n",
      "Loading Data4Jens/DarkTimeTagSet1.csv\n",
      "Loading Data4Jens/DarkTimeTagSet2.csv\n",
      "Loading Data4Jens/DarkTimeTagSet3.csv\n",
      "Loading Data4Jens/DarkTimeTagSet4.csv\n",
      "Loading Data4Jens/DarkTimeTagSet5.csv\n",
      "Classifying qubit measurements with Threshold Cutoff Model w/ threshold 12\n"
     ]
    },
    {
     "name": "stdout",
     "output_type": "stream",
     "text": [
      "Datapoints: 387133\n",
      "False Positives : 39\n",
      "False Negatives: 74\n",
      "Reliability: 0.9997081106493118\n"
     ]
    }
   ],
   "source": [
    "# find_false_classifications_with_photon_histogram\n",
    "\"\"\"\n",
    "Classify qubits by the Threshold Cutoff Model with the optimal threshold, find all mis-classified qubits and\n",
    "print the histogram of each's measured photons (frequency of every arriving time interval)\n",
    "\"\"\"\n",
    "options= get_arguments()\n",
    "qubit_measurements = read_qubit_measurements()\n",
    "model = ThresholdCutoffModel(12)\n",
    "classify_qubits(model, qubit_measurements)\n",
    "reliability = gather_measurement_statistics(qubit_measurements)"
   ]
  },
  {
   "cell_type": "code",
   "execution_count": 33,
   "metadata": {},
   "outputs": [
    {
     "name": "stdout",
     "output_type": "stream",
     "text": [
      "A total of 39 false positives and 74 false negatives.\n",
      "One historgram of measured photons in a mis-classifed qubit: \n",
      "(array([0, 0, 0, 0, 1, 0, 0, 0, 0, 0]), array([-0.49764103, -0.39764103, -0.29764103, -0.19764103, -0.09764103,\n",
      "        0.00235897,  0.10235897,  0.20235897,  0.30235897,  0.40235897,\n",
      "        0.50235897]))\n"
     ]
    }
   ],
   "source": [
    "misclassified_qubits = list(filter(\n",
    "    lambda measurement: measurement.ground_truth != measurement.classified_result, qubit_measurements))\n",
    "false_positive_qubits = list(filter(\n",
    "    lambda measurement: measurement.ground_truth == Qubit.BRIGHT and measurement.classified_result == Qubit.DARK, \n",
    "    qubit_measurements))\n",
    "false_negative_qubits = list(filter(\n",
    "    lambda measurement: measurement.ground_truth == Qubit.DARK and measurement.classified_result == Qubit.BRIGHT, \n",
    "    qubit_measurements))\n",
    "\n",
    "print(\"A total of {} false positives and {} false negatives.\".format(\n",
    "    len(false_positive_qubits), len(false_negative_qubits)))\n",
    "measurement_photon_histograms = [np.histogram(qubit.photons) for qubit in misclassified_qubits]\n",
    "print(\"One historgram of measured photons in a mis-classifed qubit: \\n{}\".format(measurement_photon_histograms[0]))"
   ]
  },
  {
   "cell_type": "code",
   "execution_count": 34,
   "metadata": {},
   "outputs": [
    {
     "data": {
      "text/plain": [
       "(array([0., 0., 0., 0., 0., 1., 0., 0., 0., 0.]),\n",
       " array([-0.49713096, -0.39713096, -0.29713096, -0.19713096, -0.09713096,\n",
       "         0.00286904,  0.10286904,  0.20286904,  0.30286904,  0.40286904,\n",
       "         0.50286904]),\n",
       " <a list of 10 Patch objects>)"
      ]
     },
     "execution_count": 34,
     "metadata": {},
     "output_type": "execute_result"
    },
    {
     "data": {
      "image/png": "[encoded data removed]",
      "text/plain": [
       "<Figure size 432x288 with 1 Axes>"
      ]
     },
     "metadata": {
      "needs_background": "light"
     },
     "output_type": "display_data"
    }
   ],
   "source": [
    "FALSE_POSITIVE_INDEX = 10\n",
    "plt.hist(false_positive_qubits[FALSE_POSITIVE_INDEX].photons)"
   ]
  },
  {
   "cell_type": "code",
   "execution_count": 40,
   "metadata": {},
   "outputs": [
    {
     "data": {
      "image/png": "[encoded data removed]",
      "text/plain": [
       "<Figure size 648x576 with 1 Axes>"
      ]
     },
     "metadata": {
      "needs_background": "light"
     },
     "output_type": "display_data"
    }
   ],
   "source": [
    "# FALSE_NEGATIVE_INDEX = 10\n",
    "# plt.hist(false_negative_qubits[FALSE_NEGATIVE_INDEX].photons)\n",
    "\n",
    "fig = plt.figure(figsize=(9, 8))\n",
    "for index in range(len(false_negative_qubits)):\n",
    "    plt.hist(false_negative_qubits[index].photons)"
   ]
  },
  {
   "cell_type": "code",
   "execution_count": null,
   "metadata": {},
   "outputs": [],
   "source": []
  }
 ],
 "metadata": {
  "kernelspec": {
   "display_name": "Python3 Qubit Capstone",
   "language": "python",
   "name": "python3-qubit-capstone"
  },
  "language_info": {
   "codemirror_mode": {
    "name": "ipython",
    "version": 3
   },
   "file_extension": ".py",
   "mimetype": "text/x-python",
   "name": "python",
   "nbconvert_exporter": "python",
   "pygments_lexer": "ipython3",
   "version": "3.7.5"
  }
 },
 "nbformat": 4,
 "nbformat_minor": 2
}
